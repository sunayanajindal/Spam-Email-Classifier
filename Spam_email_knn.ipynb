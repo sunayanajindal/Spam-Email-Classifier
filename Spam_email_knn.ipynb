{
  "cells": [
    {
      "cell_type": "markdown",
      "metadata": {
        "id": "02c54141"
      },
      "source": [
        "## Spam Email Classifier with KNN using TF-IDF scores"
      ],
      "id": "02c54141"
    },
    {
      "cell_type": "markdown",
      "metadata": {
        "id": "1c17102e"
      },
      "source": [
        "1.   Assignment must be implemented in Python 3 only.\n",
        "2.   You are allowed to use libraries for data preprocessing (numpy, pandas, nltk etc) and for evaluation metrics, data visualization (matplotlib etc.).\n",
        "3.   You will be evaluated not just on the overall performance of the model and also on the experimentation with hyper parameters, data prepossessing techniques etc.\n",
        "4.   The report file must be a well documented jupyter notebook, explaining the experiments you have performed, evaluation metrics and corresponding code. The code must run and be able to reproduce the accuracies, figures/graphs etc.\n",
        "5.   For all the questions, you must create a train-validation data split and test the hyperparameter tuning on the validation set. Your jupyter notebook must reflect the same.\n",
        "6.   Strict plagiarism checking will be done. An F will be awarded for plagiarism."
      ],
      "id": "1c17102e"
    },
    {
      "cell_type": "markdown",
      "metadata": {
        "id": "0d34a310"
      },
      "source": [
        "**Task: Given an email, classify it as spam or ham**\n",
        "\n",
        "Given input text file (\"emails.txt\") containing 5572 email messages, with each row having its corresponding label (spam/ham) attached to it.\n",
        "\n",
        "This task also requires basic pre-processing of text (like removing stopwords, stemming/lemmatizing, replacing email_address with 'email-tag', etc..).\n",
        "\n",
        "You are required to find the tf-idf scores for the given data and use them to perform KNN using Cosine Similarity."
      ],
      "id": "0d34a310"
    },
    {
      "cell_type": "markdown",
      "metadata": {
        "id": "b0c87696"
      },
      "source": [
        "### Import necessary libraries"
      ],
      "id": "b0c87696"
    },
    {
      "cell_type": "code",
      "execution_count": 94,
      "metadata": {
        "colab": {
          "base_uri": "https://localhost:8080/"
        },
        "id": "3d5a1fe2",
        "outputId": "94e73a74-8239-406e-aae1-f5f2438b44bb"
      },
      "outputs": [
        {
          "output_type": "stream",
          "name": "stdout",
          "text": [
            "Requirement already satisfied: nltk in /usr/local/lib/python3.7/dist-packages (3.2.5)\n",
            "Requirement already satisfied: six in /usr/local/lib/python3.7/dist-packages (from nltk) (1.15.0)\n",
            "[nltk_data] Downloading package punkt to /root/nltk_data...\n",
            "[nltk_data]   Package punkt is already up-to-date!\n"
          ]
        },
        {
          "output_type": "execute_result",
          "data": {
            "text/plain": [
              "True"
            ]
          },
          "metadata": {},
          "execution_count": 94
        }
      ],
      "source": [
        "!pip install nltk\n",
        "import nltk\n",
        "import re\n",
        "import numpy as np\n",
        "import pandas as pd\n",
        "import string\n",
        "from nltk.tokenize import word_tokenize\n",
        "nltk.download('punkt')"
      ],
      "id": "3d5a1fe2"
    },
    {
      "cell_type": "markdown",
      "metadata": {
        "id": "7aef4dff"
      },
      "source": [
        "### Load dataset"
      ],
      "id": "7aef4dff"
    },
    {
      "cell_type": "code",
      "execution_count": 95,
      "metadata": {
        "id": "f178f892"
      },
      "outputs": [],
      "source": [
        "with open (\"emails.txt\", \"r\") as myfile:\n",
        "    data=myfile.readlines()"
      ],
      "id": "f178f892"
    },
    {
      "cell_type": "markdown",
      "metadata": {
        "id": "cd1ef5ba"
      },
      "source": [
        "### Preprocess data"
      ],
      "id": "cd1ef5ba"
    },
    {
      "cell_type": "code",
      "execution_count": 96,
      "metadata": {
        "colab": {
          "base_uri": "https://localhost:8080/"
        },
        "id": "MYFnAo2r0g5n",
        "outputId": "e31552de-a5fa-44c0-aefa-cd4fb039c47e"
      },
      "outputs": [
        {
          "output_type": "stream",
          "name": "stdout",
          "text": [
            "[nltk_data] Downloading package stopwords to /root/nltk_data...\n",
            "[nltk_data]   Package stopwords is already up-to-date!\n"
          ]
        }
      ],
      "source": [
        "\"\"\"get all stop words\"\"\"\n",
        "nltk.download('stopwords')\n",
        "from nltk.corpus import stopwords\n",
        "stop_words=set(stopwords.words(\"english\"))\n",
        "# print(stop_words)"
      ],
      "id": "MYFnAo2r0g5n"
    },
    {
      "cell_type": "code",
      "execution_count": 97,
      "metadata": {
        "colab": {
          "base_uri": "https://localhost:8080/"
        },
        "id": "eLkH3aAc1Cnd",
        "outputId": "c3eff459-bcc6-4940-f90f-e645ea489918"
      },
      "outputs": [
        {
          "output_type": "stream",
          "name": "stdout",
          "text": [
            "[nltk_data] Downloading package wordnet to /root/nltk_data...\n",
            "[nltk_data]   Package wordnet is already up-to-date!\n"
          ]
        }
      ],
      "source": [
        "nltk.download('wordnet')\n",
        "from nltk.stem.wordnet import WordNetLemmatizer\n",
        "lem = WordNetLemmatizer()"
      ],
      "id": "eLkH3aAc1Cnd"
    },
    {
      "cell_type": "code",
      "execution_count": 98,
      "metadata": {
        "id": "RD8q2C99COfP"
      },
      "outputs": [],
      "source": [
        "mails=[]\n",
        "spam_ham=[]\n",
        "for mail in data:\n",
        "    new_string = mail.translate(str.maketrans('', '', string.punctuation))\n",
        "    # print(\"Punctuations removed: \", new_string)\n",
        "    lower_str= new_string.lower()\n",
        "    # print(\"Lower : \",lower_str)\n",
        "    tokenized_word=word_tokenize(lower_str)\n",
        "    # print(tokenized_word) \n",
        "    filtered_sent=[]\n",
        "    for w in tokenized_word:\n",
        "        if w not in stop_words:\n",
        "            filtered_sent.append(w)\n",
        "\n",
        "    spam_ham.append(filtered_sent[0])\n",
        "    filtered_sent.pop(0)\n",
        "    # print(\"Filterd Sentence:\",filtered_sent)\n",
        "    lem_str=[]\n",
        "    for word in filtered_sent:\n",
        "        lem_str.append(lem.lemmatize(word))\n",
        "    # print(\"Lemmatized words: \", lem_str)\n",
        "    mails.append(lem_str)"
      ],
      "id": "RD8q2C99COfP"
    },
    {
      "cell_type": "code",
      "execution_count": 99,
      "metadata": {
        "id": "HtWF43oJKNB1"
      },
      "outputs": [],
      "source": [
        "tf=[]\n",
        "idf={}\n",
        "vocab=[]\n",
        "for text in mails:\n",
        "    count=0\n",
        "    word_freq={}\n",
        "    for word in text:\n",
        "        if word in word_freq:\n",
        "            word_freq[word]+=1\n",
        "        else:\n",
        "            word_freq[word]=1\n",
        "        count+=1\n",
        "        if word not in idf:\n",
        "            idf[word]=0\n",
        "            vocab.append(word)\n",
        "\n",
        "    for k,v in word_freq.items():\n",
        "        word_freq[k]=v/count\n",
        "    tf.append(word_freq)"
      ],
      "id": "HtWF43oJKNB1"
    },
    {
      "cell_type": "markdown",
      "metadata": {
        "id": "jtWHaTOYqdNm"
      },
      "source": [
        ""
      ],
      "id": "jtWHaTOYqdNm"
    },
    {
      "cell_type": "code",
      "execution_count": 100,
      "metadata": {
        "id": "a63GWYASNkXx"
      },
      "outputs": [],
      "source": [
        "docs=0\n",
        "for text in tf:\n",
        "    for k,v in text.items():\n",
        "        idf[k]+=1\n",
        "    docs+=1"
      ],
      "id": "a63GWYASNkXx"
    },
    {
      "cell_type": "code",
      "execution_count": 101,
      "metadata": {
        "id": "i0XR5l-dRmfM"
      },
      "outputs": [],
      "source": [
        "for k,v in idf.items():\n",
        "    idf[k]=np.log2(docs/v)\n",
        "# print(idf)"
      ],
      "id": "i0XR5l-dRmfM"
    },
    {
      "cell_type": "code",
      "execution_count": 102,
      "metadata": {
        "id": "-64DjZuOS7a_"
      },
      "outputs": [],
      "source": [
        "tf_idf=[]\n",
        "for text in tf:\n",
        "    temp={}\n",
        "    for k,v in text.items():\n",
        "        temp[k]=v*idf[k]\n",
        "    tf_idf.append(temp)\n",
        "# print(tf_idf)"
      ],
      "id": "-64DjZuOS7a_"
    },
    {
      "cell_type": "code",
      "execution_count": 103,
      "metadata": {
        "id": "R-bHkWzCGHDT"
      },
      "outputs": [],
      "source": [
        "tf_idf_vector=[]\n",
        "for text in tf_idf:\n",
        "    vector=[]\n",
        "    for word in vocab:\n",
        "        if word in text:\n",
        "            vector.append(text[word])\n",
        "        else:\n",
        "            vector.append(0)\n",
        "    tf_idf_vector.append(np.array(vector))"
      ],
      "id": "R-bHkWzCGHDT"
    },
    {
      "cell_type": "code",
      "execution_count": 104,
      "metadata": {
        "id": "sWRXC_jzJWLv",
        "colab": {
          "base_uri": "https://localhost:8080/"
        },
        "outputId": "09d89bc8-3370-4310-ab9b-408df12da4d2"
      },
      "outputs": [
        {
          "output_type": "stream",
          "name": "stdout",
          "text": [
            "     Label                                       tf_idf_value\n",
            "0      ham  [0.2674743975267576, 0.7777810804439881, 0.462...\n",
            "1      ham  [0.0, 0.0, 0.0, 0.0, 0.0, 0.0, 0.0, 0.0, 0.0, ...\n",
            "2     spam  [0.0, 0.0, 0.0, 0.0, 0.0, 0.0, 0.0, 0.0, 0.0, ...\n",
            "3      ham  [0.0, 0.0, 0.0, 0.0, 0.0, 0.0, 0.0, 0.0, 0.0, ...\n",
            "4      ham  [0.5349487950535152, 0.0, 0.0, 0.0, 0.0, 0.0, ...\n",
            "...    ...                                                ...\n",
            "5569  spam  [0.0, 0.0, 0.0, 0.0, 0.0, 0.0, 0.0, 0.0, 0.0, ...\n",
            "5570   ham  [0.0, 0.0, 0.0, 0.0, 0.0, 0.0, 0.0, 0.0, 0.0, ...\n",
            "5571   ham  [0.0, 0.0, 0.0, 0.0, 0.0, 0.0, 0.0, 0.0, 0.0, ...\n",
            "5572   ham  [0.0, 0.0, 0.0, 0.0, 0.0, 0.0, 0.0, 0.0, 0.0, ...\n",
            "5573   ham  [0.0, 0.0, 0.0, 0.0, 0.0, 0.0, 0.0, 0.0, 0.0, ...\n",
            "\n",
            "[5574 rows x 2 columns]\n"
          ]
        }
      ],
      "source": [
        "data={'Label':spam_ham, 'tf_idf_value': tf_idf_vector}\n",
        "df = pd.DataFrame(data)\n",
        "print(df)"
      ],
      "id": "sWRXC_jzJWLv"
    },
    {
      "cell_type": "markdown",
      "metadata": {
        "id": "f76767a7"
      },
      "source": [
        "### Split data"
      ],
      "id": "f76767a7"
    },
    {
      "cell_type": "code",
      "execution_count": 105,
      "metadata": {
        "id": "f75e6cd2"
      },
      "outputs": [],
      "source": [
        "from sklearn.model_selection import train_test_split"
      ],
      "id": "f75e6cd2"
    },
    {
      "cell_type": "code",
      "execution_count": 106,
      "metadata": {
        "id": "M5Hs6zanQbf0"
      },
      "outputs": [],
      "source": [
        "train, test = train_test_split(df, test_size=0.2, random_state=0, stratify=spam_ham)\n",
        "# print(train)\n",
        "# print(test)"
      ],
      "id": "M5Hs6zanQbf0"
    },
    {
      "cell_type": "code",
      "source": [
        "actual=[]\n",
        "for idx in range(len(test)):\n",
        "    actual.append(test['Label'][test.index[idx]])"
      ],
      "metadata": {
        "id": "YLzw99cP1wR6"
      },
      "id": "YLzw99cP1wR6",
      "execution_count": 107,
      "outputs": []
    },
    {
      "cell_type": "markdown",
      "metadata": {
        "id": "ee6eb76b"
      },
      "source": [
        "### Train your KNN model (reuse previously iplemented model built from scratch) and test on your data"
      ],
      "id": "ee6eb76b"
    },
    {
      "cell_type": "markdown",
      "metadata": {
        "id": "22baf6b2"
      },
      "source": [
        "***1. Experiment with different distance measures [Euclidean distance, Manhattan distance, Hamming Distance] and compare with the Cosine Similarity distance results.***"
      ],
      "id": "22baf6b2"
    },
    {
      "cell_type": "code",
      "execution_count": 108,
      "metadata": {
        "id": "68f1bb23"
      },
      "outputs": [],
      "source": [
        "def cosine_similarity(List1,List2):\n",
        "    result = dot(List1, List2)/(norm(List1)*norm(List2))\n",
        "    return result\n",
        "\n",
        "def manhattan_distance(List1, List2):\n",
        "    return np.abs(List1-List2).sum()\n",
        "\n",
        "def eucledian_distance(List1,List2):\n",
        "    sq = np.sum(np.square(List1 - List2))\n",
        "    return (np.sqrt(sq))"
      ],
      "id": "68f1bb23"
    },
    {
      "cell_type": "code",
      "source": [
        "from numpy import dot\n",
        "from numpy.linalg import norm\n",
        "similarity=[]\n",
        "man_dist = []\n",
        "euc_dist = []\n",
        "# count=0\n",
        "a=np.array(test['tf_idf_value'])\n",
        "b=np.array(train['tf_idf_value'])\n",
        "for x in range(len(test)):\n",
        "    temp={}\n",
        "    man_temp = {}\n",
        "    euc_temp = {}\n",
        "    for y in range(len(train)):\n",
        "        result1 = manhattan_distance(a[x],b[y])\n",
        "        result2 = cosine_similarity (a[x],b[y])\n",
        "        result3 = eucledian_distance(a[x],b[y])\n",
        "        temp[y] = result2\n",
        "        man_temp[y] = result1\n",
        "        euc_temp[y] = result3\n",
        "    similarity.append(dict(sorted(temp.items(), key=lambda x: x[1], reverse=True)))\n",
        "    man_dist.append(dict(sorted(man_temp.items(), key=lambda x: x[1])))\n",
        "    euc_dist.append(dict(sorted(euc_temp.items(), key=lambda x: x[1])))\n",
        "    # count+=1\n",
        "    # print(count)\n"
      ],
      "metadata": {
        "id": "2tgNayAF2Ymx",
        "outputId": "ac074c7a-8cfa-464a-f23c-f53298c14824",
        "colab": {
          "base_uri": "https://localhost:8080/"
        }
      },
      "id": "2tgNayAF2Ymx",
      "execution_count": 109,
      "outputs": [
        {
          "output_type": "stream",
          "name": "stderr",
          "text": [
            "/usr/local/lib/python3.7/dist-packages/ipykernel_launcher.py:2: RuntimeWarning: invalid value encountered in double_scalars\n",
            "  \n"
          ]
        }
      ]
    },
    {
      "cell_type": "code",
      "source": [
        "# cosine_similarity\n",
        "knn_val=[1,3,5,7,11,17,23,28]\n",
        "res=[]\n",
        "for val in knn_val:\n",
        "    prediction=[]\n",
        "    for data in similarity:\n",
        "        knn=val\n",
        "        spam=0\n",
        "        ham=0\n",
        "        for k,v in data.items():\n",
        "            if df['Label'][train.index[k]] == 'spam':\n",
        "                spam+=1\n",
        "            else:\n",
        "                ham+=1\n",
        "            knn-=1\n",
        "            if(knn==0):\n",
        "                break\n",
        "        if spam>ham:\n",
        "            prediction.append('spam')\n",
        "        else:\n",
        "            prediction.append('ham')\n",
        "    res.append(prediction)\n"
      ],
      "metadata": {
        "id": "qMNV-Lqb2bsT"
      },
      "id": "qMNV-Lqb2bsT",
      "execution_count": 110,
      "outputs": []
    },
    {
      "cell_type": "code",
      "source": [
        "# manhattan_distance\n",
        "knn_val=[1,3,5,7,11,17,23,28]\n",
        "man_res=[]\n",
        "for val in knn_val:\n",
        "    prediction=[]\n",
        "    for data in man_dist:\n",
        "        knn=val\n",
        "        spam=0\n",
        "        ham=0\n",
        "        for k,v in data.items():\n",
        "            if df['Label'][train.index[k]] == 'spam':\n",
        "                spam+=1\n",
        "            else:\n",
        "                ham+=1\n",
        "            knn-=1\n",
        "            if(knn==0):\n",
        "                break\n",
        "        if spam>ham:\n",
        "            prediction.append('spam')\n",
        "        else:\n",
        "            prediction.append('ham')\n",
        "    man_res.append(prediction)\n"
      ],
      "metadata": {
        "id": "-t1lBVU92f9R"
      },
      "id": "-t1lBVU92f9R",
      "execution_count": 111,
      "outputs": []
    },
    {
      "cell_type": "code",
      "source": [
        "# eucledian_distance\n",
        "knn_val=[1,3,5,7,11,17,23,28]\n",
        "euc_res=[]\n",
        "for val in knn_val:\n",
        "    prediction=[]\n",
        "    for data in euc_dist:\n",
        "        knn=val\n",
        "        spam=0\n",
        "        ham=0\n",
        "        for k,v in data.items():\n",
        "            if df['Label'][train.index[k]] == 'spam':\n",
        "                spam+=1\n",
        "            else:\n",
        "                ham+=1\n",
        "            knn-=1\n",
        "            if(knn==0):\n",
        "                break\n",
        "        if spam>ham:\n",
        "            prediction.append('spam')\n",
        "        else:\n",
        "            prediction.append('ham')\n",
        "    euc_res.append(prediction)\n"
      ],
      "metadata": {
        "id": "AjEka0Ii2i2K"
      },
      "id": "AjEka0Ii2i2K",
      "execution_count": 112,
      "outputs": []
    },
    {
      "cell_type": "code",
      "source": [
        "# cosine_similarity\n",
        "from sklearn import metrics\n",
        "print(\"Cosine Metric\")\n",
        "for prediction in res:\n",
        "    print(metrics.confusion_matrix(actual, prediction, labels=[\"ham\", \"spam\"]))\n",
        "    print(metrics.classification_report(actual, prediction, labels=[\"ham\", \"spam\"],zero_division=1))\n",
        "\n",
        "# manhattan_distance\n",
        "print(\"Manhattan Distance\")\n",
        "for prediction in man_res:\n",
        "    print(metrics.confusion_matrix(actual, prediction, labels=[\"ham\", \"spam\"]))\n",
        "    print(metrics.classification_report(actual, prediction, labels=[\"ham\", \"spam\"],zero_division=1))\n",
        "\n",
        "# eucledian_distance\n",
        "print(\"Eucledian Distance\")\n",
        "for prediction in euc_res:\n",
        "    print(metrics.confusion_matrix(actual, prediction, labels=[\"ham\", \"spam\"]))\n",
        "    print(metrics.classification_report(actual, prediction, labels=[\"ham\", \"spam\"],zero_division=1))"
      ],
      "metadata": {
        "colab": {
          "base_uri": "https://localhost:8080/"
        },
        "id": "osM3LFE2Zb-v",
        "outputId": "75e1e4e4-2d69-485a-f204-725bbd0be263"
      },
      "id": "osM3LFE2Zb-v",
      "execution_count": 113,
      "outputs": [
        {
          "output_type": "stream",
          "name": "stdout",
          "text": [
            "Cosine Metric\n",
            "[[961   5]\n",
            " [ 39 110]]\n",
            "              precision    recall  f1-score   support\n",
            "\n",
            "         ham       0.96      0.99      0.98       966\n",
            "        spam       0.96      0.74      0.83       149\n",
            "\n",
            "    accuracy                           0.96      1115\n",
            "   macro avg       0.96      0.87      0.91      1115\n",
            "weighted avg       0.96      0.96      0.96      1115\n",
            "\n",
            "[[965   1]\n",
            " [ 53  96]]\n",
            "              precision    recall  f1-score   support\n",
            "\n",
            "         ham       0.95      1.00      0.97       966\n",
            "        spam       0.99      0.64      0.78       149\n",
            "\n",
            "    accuracy                           0.95      1115\n",
            "   macro avg       0.97      0.82      0.88      1115\n",
            "weighted avg       0.95      0.95      0.95      1115\n",
            "\n",
            "[[966   0]\n",
            " [ 54  95]]\n",
            "              precision    recall  f1-score   support\n",
            "\n",
            "         ham       0.95      1.00      0.97       966\n",
            "        spam       1.00      0.64      0.78       149\n",
            "\n",
            "    accuracy                           0.95      1115\n",
            "   macro avg       0.97      0.82      0.88      1115\n",
            "weighted avg       0.95      0.95      0.95      1115\n",
            "\n",
            "[[965   1]\n",
            " [ 62  87]]\n",
            "              precision    recall  f1-score   support\n",
            "\n",
            "         ham       0.94      1.00      0.97       966\n",
            "        spam       0.99      0.58      0.73       149\n",
            "\n",
            "    accuracy                           0.94      1115\n",
            "   macro avg       0.96      0.79      0.85      1115\n",
            "weighted avg       0.95      0.94      0.94      1115\n",
            "\n",
            "[[964   2]\n",
            " [ 62  87]]\n",
            "              precision    recall  f1-score   support\n",
            "\n",
            "         ham       0.94      1.00      0.97       966\n",
            "        spam       0.98      0.58      0.73       149\n",
            "\n",
            "    accuracy                           0.94      1115\n",
            "   macro avg       0.96      0.79      0.85      1115\n",
            "weighted avg       0.94      0.94      0.94      1115\n",
            "\n",
            "[[965   1]\n",
            " [ 67  82]]\n",
            "              precision    recall  f1-score   support\n",
            "\n",
            "         ham       0.94      1.00      0.97       966\n",
            "        spam       0.99      0.55      0.71       149\n",
            "\n",
            "    accuracy                           0.94      1115\n",
            "   macro avg       0.96      0.77      0.84      1115\n",
            "weighted avg       0.94      0.94      0.93      1115\n",
            "\n",
            "[[964   2]\n",
            " [ 71  78]]\n",
            "              precision    recall  f1-score   support\n",
            "\n",
            "         ham       0.93      1.00      0.96       966\n",
            "        spam       0.97      0.52      0.68       149\n",
            "\n",
            "    accuracy                           0.93      1115\n",
            "   macro avg       0.95      0.76      0.82      1115\n",
            "weighted avg       0.94      0.93      0.93      1115\n",
            "\n",
            "[[964   2]\n",
            " [ 76  73]]\n",
            "              precision    recall  f1-score   support\n",
            "\n",
            "         ham       0.93      1.00      0.96       966\n",
            "        spam       0.97      0.49      0.65       149\n",
            "\n",
            "    accuracy                           0.93      1115\n",
            "   macro avg       0.95      0.74      0.81      1115\n",
            "weighted avg       0.93      0.93      0.92      1115\n",
            "\n",
            "Manhattan Distance\n",
            "[[966   0]\n",
            " [ 69  80]]\n",
            "              precision    recall  f1-score   support\n",
            "\n",
            "         ham       0.93      1.00      0.97       966\n",
            "        spam       1.00      0.54      0.70       149\n",
            "\n",
            "    accuracy                           0.94      1115\n",
            "   macro avg       0.97      0.77      0.83      1115\n",
            "weighted avg       0.94      0.94      0.93      1115\n",
            "\n",
            "[[966   0]\n",
            " [ 97  52]]\n",
            "              precision    recall  f1-score   support\n",
            "\n",
            "         ham       0.91      1.00      0.95       966\n",
            "        spam       1.00      0.35      0.52       149\n",
            "\n",
            "    accuracy                           0.91      1115\n",
            "   macro avg       0.95      0.67      0.73      1115\n",
            "weighted avg       0.92      0.91      0.89      1115\n",
            "\n",
            "[[966   0]\n",
            " [113  36]]\n",
            "              precision    recall  f1-score   support\n",
            "\n",
            "         ham       0.90      1.00      0.94       966\n",
            "        spam       1.00      0.24      0.39       149\n",
            "\n",
            "    accuracy                           0.90      1115\n",
            "   macro avg       0.95      0.62      0.67      1115\n",
            "weighted avg       0.91      0.90      0.87      1115\n",
            "\n",
            "[[966   0]\n",
            " [120  29]]\n",
            "              precision    recall  f1-score   support\n",
            "\n",
            "         ham       0.89      1.00      0.94       966\n",
            "        spam       1.00      0.19      0.33       149\n",
            "\n",
            "    accuracy                           0.89      1115\n",
            "   macro avg       0.94      0.60      0.63      1115\n",
            "weighted avg       0.90      0.89      0.86      1115\n",
            "\n",
            "[[966   0]\n",
            " [117  32]]\n",
            "              precision    recall  f1-score   support\n",
            "\n",
            "         ham       0.89      1.00      0.94       966\n",
            "        spam       1.00      0.21      0.35       149\n",
            "\n",
            "    accuracy                           0.90      1115\n",
            "   macro avg       0.95      0.61      0.65      1115\n",
            "weighted avg       0.91      0.90      0.86      1115\n",
            "\n",
            "[[966   0]\n",
            " [123  26]]\n",
            "              precision    recall  f1-score   support\n",
            "\n",
            "         ham       0.89      1.00      0.94       966\n",
            "        spam       1.00      0.17      0.30       149\n",
            "\n",
            "    accuracy                           0.89      1115\n",
            "   macro avg       0.94      0.59      0.62      1115\n",
            "weighted avg       0.90      0.89      0.85      1115\n",
            "\n",
            "[[966   0]\n",
            " [132  17]]\n",
            "              precision    recall  f1-score   support\n",
            "\n",
            "         ham       0.88      1.00      0.94       966\n",
            "        spam       1.00      0.11      0.20       149\n",
            "\n",
            "    accuracy                           0.88      1115\n",
            "   macro avg       0.94      0.56      0.57      1115\n",
            "weighted avg       0.90      0.88      0.84      1115\n",
            "\n",
            "[[966   0]\n",
            " [135  14]]\n",
            "              precision    recall  f1-score   support\n",
            "\n",
            "         ham       0.88      1.00      0.93       966\n",
            "        spam       1.00      0.09      0.17       149\n",
            "\n",
            "    accuracy                           0.88      1115\n",
            "   macro avg       0.94      0.55      0.55      1115\n",
            "weighted avg       0.89      0.88      0.83      1115\n",
            "\n",
            "Eucledian Distance\n",
            "[[964   2]\n",
            " [ 71  78]]\n",
            "              precision    recall  f1-score   support\n",
            "\n",
            "         ham       0.93      1.00      0.96       966\n",
            "        spam       0.97      0.52      0.68       149\n",
            "\n",
            "    accuracy                           0.93      1115\n",
            "   macro avg       0.95      0.76      0.82      1115\n",
            "weighted avg       0.94      0.93      0.93      1115\n",
            "\n",
            "[[965   1]\n",
            " [ 98  51]]\n",
            "              precision    recall  f1-score   support\n",
            "\n",
            "         ham       0.91      1.00      0.95       966\n",
            "        spam       0.98      0.34      0.51       149\n",
            "\n",
            "    accuracy                           0.91      1115\n",
            "   macro avg       0.94      0.67      0.73      1115\n",
            "weighted avg       0.92      0.91      0.89      1115\n",
            "\n",
            "[[965   1]\n",
            " [114  35]]\n",
            "              precision    recall  f1-score   support\n",
            "\n",
            "         ham       0.89      1.00      0.94       966\n",
            "        spam       0.97      0.23      0.38       149\n",
            "\n",
            "    accuracy                           0.90      1115\n",
            "   macro avg       0.93      0.62      0.66      1115\n",
            "weighted avg       0.90      0.90      0.87      1115\n",
            "\n",
            "[[965   1]\n",
            " [124  25]]\n",
            "              precision    recall  f1-score   support\n",
            "\n",
            "         ham       0.89      1.00      0.94       966\n",
            "        spam       0.96      0.17      0.29       149\n",
            "\n",
            "    accuracy                           0.89      1115\n",
            "   macro avg       0.92      0.58      0.61      1115\n",
            "weighted avg       0.90      0.89      0.85      1115\n",
            "\n",
            "[[966   0]\n",
            " [118  31]]\n",
            "              precision    recall  f1-score   support\n",
            "\n",
            "         ham       0.89      1.00      0.94       966\n",
            "        spam       1.00      0.21      0.34       149\n",
            "\n",
            "    accuracy                           0.89      1115\n",
            "   macro avg       0.95      0.60      0.64      1115\n",
            "weighted avg       0.91      0.89      0.86      1115\n",
            "\n",
            "[[966   0]\n",
            " [116  33]]\n",
            "              precision    recall  f1-score   support\n",
            "\n",
            "         ham       0.89      1.00      0.94       966\n",
            "        spam       1.00      0.22      0.36       149\n",
            "\n",
            "    accuracy                           0.90      1115\n",
            "   macro avg       0.95      0.61      0.65      1115\n",
            "weighted avg       0.91      0.90      0.87      1115\n",
            "\n",
            "[[966   0]\n",
            " [129  20]]\n",
            "              precision    recall  f1-score   support\n",
            "\n",
            "         ham       0.88      1.00      0.94       966\n",
            "        spam       1.00      0.13      0.24       149\n",
            "\n",
            "    accuracy                           0.88      1115\n",
            "   macro avg       0.94      0.57      0.59      1115\n",
            "weighted avg       0.90      0.88      0.84      1115\n",
            "\n",
            "[[965   1]\n",
            " [138  11]]\n",
            "              precision    recall  f1-score   support\n",
            "\n",
            "         ham       0.87      1.00      0.93       966\n",
            "        spam       0.92      0.07      0.14       149\n",
            "\n",
            "    accuracy                           0.88      1115\n",
            "   macro avg       0.90      0.54      0.53      1115\n",
            "weighted avg       0.88      0.88      0.83      1115\n",
            "\n"
          ]
        }
      ]
    },
    {
      "cell_type": "code",
      "source": [
        "# cosine_similarity\n",
        "cos_score=[]\n",
        "cos_accuracy=[]\n",
        "for predict in res:\n",
        "    cos_score.append(metrics.f1_score(actual, predict, average=None)[1])\n",
        "    cos_accuracy.append(metrics.accuracy_score(actual, predict))\n",
        "# print(cos_score)\n",
        "\n",
        "# manhattan_distance\n",
        "man_score=[]\n",
        "man_accuracy=[]\n",
        "for predict in man_res:\n",
        "    man_score.append(metrics.f1_score(actual, predict, average=None)[1])\n",
        "    man_accuracy.append(metrics.accuracy_score(actual, predict))\n",
        "# print(man_score)\n",
        "\n",
        "# eucledian_distance\n",
        "euc_score=[]\n",
        "euc_accuracy=[]\n",
        "for predict in euc_res:\n",
        "    euc_score.append(metrics.f1_score(actual, predict, average=None)[1])\n",
        "    euc_accuracy.append(metrics.accuracy_score(actual, predict))\n",
        "# print(euc_score)"
      ],
      "metadata": {
        "id": "aF006qSWZcI2"
      },
      "id": "aF006qSWZcI2",
      "execution_count": 114,
      "outputs": []
    },
    {
      "cell_type": "markdown",
      "metadata": {
        "id": "bcf6f3b1"
      },
      "source": [
        "***2. Explain which distance measure works best and why? Explore the distance measures and weigh their pro and cons in different application settings.***"
      ],
      "id": "bcf6f3b1"
    },
    {
      "cell_type": "markdown",
      "metadata": {
        "id": "bae57a01"
      },
      "source": [
        "Euclidean Distance is the shortest distance between any two points in the space. It is not preferred when there is high dimensionality in the data due to the squared terms, this makes it particularly sensitive to noise. It is generally used to find the distance between two real-valued vectors like integer, float, etc.\n",
        "\n",
        "Manhattan Distance is the sum of absolute differences between the two points across all dimensions. Hence, as the dimension of the data increases, it is preferred over euclidean distance due to the ‘curse of dimensionality.’\n",
        "\n",
        "The cosine distance metric is mainly used to find the amount of similarity between two data points. It is faster as it does not compute a square root, which is present in the euclidean distance, thus the computer need not do many operations. It was observed that TF-IDF works well with the document-term matrix and gives better accuracy than the other distance metrics."
      ],
      "id": "bae57a01"
    },
    {
      "cell_type": "markdown",
      "metadata": {
        "id": "45a99c76"
      },
      "source": [
        "***3. Why accuracy alone is not sufficient to evaluate the model? Why we need precision/recall/f1-score?***\n"
      ],
      "id": "45a99c76"
    },
    {
      "cell_type": "markdown",
      "source": [
        "Accuracy is the proportion of correct results that a classifier achieved. Accuracy alone is not sufficient as it doesn't work properly on unbalanced data.Accuracy can also be written as (TP + TN)/(TP + TN + FP + FN) where - \n",
        "\n",
        "**True Positives (TP):** number of positive examples labeled as positive.\n",
        "**False Positives (FP):** number of negative examples, labeled as positive.\n",
        "**True Negatives (TN):** number of negative examples, labeled as negative.\n",
        "**False Negatives (FN):** number of positive examples, labeled as negative.\n",
        "\n",
        "There is something known as accuracy paradox that occurs when FP>TP and thus the accuract does not give best results. Here we use Precision, Recall, F-score for better comparison.\n",
        "\n",
        "**Precision** : It tells that out of all the samples labelled as positive by the classfier are correct.\n",
        "\n",
        "**Recall** : It tells that how many of the positive samples did the classifier correctly classify.\n",
        "\n",
        "**F1-Score**: It combines precision and recall into a single value."
      ],
      "metadata": {
        "id": "-02OtWY50vXu"
      },
      "id": "-02OtWY50vXu"
    },
    {
      "cell_type": "code",
      "execution_count": 115,
      "metadata": {
        "id": "e9668814",
        "colab": {
          "base_uri": "https://localhost:8080/"
        },
        "outputId": "58a0c50d-534c-48bc-d533-86c43721b267"
      },
      "outputs": [
        {
          "output_type": "stream",
          "name": "stdout",
          "text": [
            "   k_value  Cosine_accuracy  Manhattan_accuracy  Euclidean_accuracy\n",
            "0        1         0.960538            0.938117            0.934529\n",
            "1        3         0.951570            0.913004            0.911211\n",
            "2        5         0.951570            0.898655            0.896861\n",
            "3        7         0.943498            0.892377            0.887892\n",
            "4       11         0.942601            0.895067            0.894170\n",
            "5       17         0.939013            0.889686            0.895964\n",
            "6       23         0.934529            0.881614            0.884305\n",
            "7       28         0.930045            0.878924            0.875336\n"
          ]
        }
      ],
      "source": [
        "acc_data={'k_value':knn_val, 'Cosine_accuracy': cos_accuracy , 'Manhattan_accuracy': man_accuracy, 'Euclidean_accuracy':euc_accuracy}\n",
        "acc_df = pd.DataFrame(acc_data)\n",
        "print(acc_df)"
      ],
      "id": "e9668814"
    },
    {
      "cell_type": "markdown",
      "source": [
        "Thus, we can see in the table above, Cosine Similarity gives a better accuracy than manhattan and eucledian distance for any given value of k. "
      ],
      "metadata": {
        "id": "tPd2Dq-2Zu3z"
      },
      "id": "tPd2Dq-2Zu3z"
    },
    {
      "cell_type": "markdown",
      "metadata": {
        "id": "d4dde8d3"
      },
      "source": [
        "***4. Choose different K values (k=1,3,5,7,11,17,23,28) and experiment. Plot a graph showing R2 score vs k.***"
      ],
      "id": "d4dde8d3"
    },
    {
      "cell_type": "code",
      "source": [
        "# cosine_similarity\n",
        "import matplotlib.pyplot as plt\n",
        "plt.plot(knn_val, cos_score)\n",
        "plt.xlabel('k - value')\n",
        "plt.ylabel('F1 Score')\n",
        "plt.title('Cosine Distance')\n",
        "plt.show()\n",
        "\n",
        "# manhattan_distance\n",
        "plt.plot(knn_val, man_score, Label=\"Manhattan Distance\")\n",
        "plt.plot(knn_val, cos_score, Label=\"Cosine Distance\")\n",
        "plt.xlabel('k - value')\n",
        "plt.ylabel('F1 Score')\n",
        "plt.title('Cosine vs Manhattan')\n",
        "plt.legend()\n",
        "plt.show()\n",
        "\n",
        "# eucledian_distance\n",
        "plt.plot(knn_val, euc_score, Label=\"Eucledian Distance\")\n",
        "plt.plot(knn_val, cos_score, Label=\"Cosine Distance\")\n",
        "plt.xlabel('k - value')\n",
        "plt.ylabel('F1 Score')\n",
        "plt.title('Cosine vs Eucledian')\n",
        "plt.legend()\n",
        "plt.show()"
      ],
      "metadata": {
        "id": "fKCZ-ScI2ztL",
        "colab": {
          "base_uri": "https://localhost:8080/",
          "height": 851
        },
        "outputId": "39aaa432-f42d-4bce-c3b5-a129a64cf87c"
      },
      "id": "fKCZ-ScI2ztL",
      "execution_count": 116,
      "outputs": [
        {
          "output_type": "display_data",
          "data": {
            "image/png": "[encoded data removed]",
            "text/plain": [
              "<Figure size 432x288 with 1 Axes>"
            ]
          },
          "metadata": {
            "needs_background": "light"
          }
        },
        {
          "output_type": "display_data",
          "data": {
            "image/png": "[encoded data removed]",
            "text/plain": [
              "<Figure size 432x288 with 1 Axes>"
            ]
          },
          "metadata": {
            "needs_background": "light"
          }
        },
        {
          "output_type": "display_data",
          "data": {
            "image/png": "[encoded data removed]",
            "text/plain": [
              "<Figure size 432x288 with 1 Axes>"
            ]
          },
          "metadata": {
            "needs_background": "light"
          }
        }
      ]
    },
    {
      "cell_type": "markdown",
      "metadata": {
        "id": "15000352"
      },
      "source": [
        "### Train and test Sklearn's KNN classifier model on your data (use metric which gave best results on your experimentation with built-from-scratch model.)"
      ],
      "id": "15000352"
    },
    {
      "cell_type": "code",
      "execution_count": 117,
      "metadata": {
        "id": "48aab7d3"
      },
      "outputs": [],
      "source": [
        "from sklearn.neighbors import KNeighborsClassifier"
      ],
      "id": "48aab7d3"
    },
    {
      "cell_type": "code",
      "source": [
        "knn_val=[1,3,5,7,11,17,23,28]\n",
        "score=[]\n",
        "for val in knn_val:\n",
        "    knn = KNeighborsClassifier(n_neighbors=val, metric='cosine')\n",
        "    clf = knn.fit(list(train['tf_idf_value']), list(train['Label']))\n",
        "    predicted = clf.predict(list(test['tf_idf_value']))\n",
        "    score.append(metrics.f1_score(actual, list(predicted), average=None)[1])\n",
        "# print(score)"
      ],
      "metadata": {
        "id": "yCTR52gyhmz-"
      },
      "id": "yCTR52gyhmz-",
      "execution_count": 118,
      "outputs": []
    },
    {
      "cell_type": "code",
      "source": [
        "plt.plot(knn_val, score)\n",
        "plt.xlabel('k - value')\n",
        "plt.ylabel('F1 Score')\n",
        "plt.title('Sklearn KNN Cosine Distance')\n",
        "plt.show()"
      ],
      "metadata": {
        "id": "87tmfTns1t5A"
      },
      "id": "87tmfTns1t5A",
      "execution_count": null,
      "outputs": []
    },
    {
      "cell_type": "markdown",
      "metadata": {
        "id": "7d22aa47"
      },
      "source": [
        "***Compare both the models result.***"
      ],
      "id": "7d22aa47"
    },
    {
      "cell_type": "code",
      "source": [
        "plt.plot(knn_val, score, Label=\"Sklearn's KNN\")\n",
        "plt.plot(knn_val, cos_score, Label=\"Scratch KNN\")\n",
        "plt.xlabel('k - value')\n",
        "plt.ylabel('F1 Score')\n",
        "plt.title('Comparison')\n",
        "plt.legend()\n",
        "plt.show()"
      ],
      "metadata": {
        "colab": {
          "base_uri": "https://localhost:8080/",
          "height": 295
        },
        "id": "7RDxIs8fa4dF",
        "outputId": "7023e4a8-501c-49cf-9aa0-4dfbacbc0066"
      },
      "id": "7RDxIs8fa4dF",
      "execution_count": 119,
      "outputs": [
        {
          "output_type": "display_data",
          "data": {
            "image/png": "[encoded data removed]",
            "text/plain": [
              "<Figure size 432x288 with 1 Axes>"
            ]
          },
          "metadata": {
            "needs_background": "light"
          }
        }
      ]
    },
    {
      "cell_type": "markdown",
      "metadata": {
        "id": "64987575"
      },
      "source": [
        "***What is the time complexity of training using KNN classifier?***"
      ],
      "id": "64987575"
    },
    {
      "cell_type": "markdown",
      "metadata": {
        "id": "2770c106"
      },
      "source": [
        "The time complexity of training using the KNN classifier is O(1) which means that it is constant."
      ],
      "id": "2770c106"
    },
    {
      "cell_type": "markdown",
      "metadata": {
        "id": "fad1f345"
      },
      "source": [
        "***What is the time complexity while testing? Is KNN a linear classifier or can it learn any boundary?***"
      ],
      "id": "fad1f345"
    },
    {
      "cell_type": "markdown",
      "source": [
        "The time complexity of testing using the KNN classifier is O(n) which means it depends on the number of test samples.\n",
        "\n",
        "KNN is a non-linear classifier. The decision boundaries of KNN look locally linear segments, but they have a complex shape that is not equivalent to a line in 2D. Thus, the decision boundary comes out as nonlinear and non-smooth."
      ],
      "metadata": {
        "id": "0h2wkM3jZG3R"
      },
      "id": "0h2wkM3jZG3R"
    }
  ],
  "metadata": {
    "colab": {
      "collapsed_sections": [],
      "name": "2021201067_Assignment1_Question3 (1).ipynb",
      "provenance": []
    },
    "kernelspec": {
      "display_name": "Python 3",
      "language": "python",
      "name": "python3"
    },
    "language_info": {
      "codemirror_mode": {
        "name": "ipython",
        "version": 3
      },
      "file_extension": ".py",
      "mimetype": "text/x-python",
      "name": "python",
      "nbconvert_exporter": "python",
      "pygments_lexer": "ipython3",
      "version": "3.8.10"
    }
  },
  "nbformat": 4,
  "nbformat_minor": 5
}